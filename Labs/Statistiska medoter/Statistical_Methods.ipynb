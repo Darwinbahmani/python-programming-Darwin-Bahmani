{
 "cells": [
  {
   "cell_type": "code",
   "execution_count": null,
   "metadata": {},
   "outputs": [],
   "source": [
    "import numpy as np\n",
    "from Statistical_Methods import StatisticalMethods\n",
    "\n",
    "\n",
    "data = np.genfromtxt(\"Small-diameter-flow.csv\", delimiter=\",\", skip_header=1)\n",
    "\n",
    "X = data[:, 2:]  # Kolumnerna Kinematic, Geometric, Inertial, Observer\n",
    "Y = data[:, 1]   # Kolumnen Flow\n",
    "\n",
    "\n",
    "print(\"Första 5 rader av X:\\n\", X[:5])\n",
    "print(\"Första 5 värden av Y:\\n\", Y[:5])\n"
   ]
  },
  {
   "cell_type": "code",
   "execution_count": null,
   "metadata": {},
   "outputs": [],
   "source": [
    " # Skapa och träna modellen\n",
    "model = StatisticalMethods(X, Y)\n",
    "model.fit()\n",
    "\n",
    "\n",
    "print(\"Koefficienter (inklusive intercept):\", model.b)\n"
   ]
  },
  {
   "cell_type": "code",
   "execution_count": null,
   "metadata": {},
   "outputs": [],
   "source": [
    "# Gör prediktioner på samma X-data\n",
    "Y_pred = model.predict(X)\n",
    "\n",
    "\n",
    "print(\"Faktiska värden:\", Y[:5])\n",
    "print(\"Predikterade värden:\", Y_pred[:5])\n"
   ]
  },
  {
   "cell_type": "code",
   "execution_count": null,
   "metadata": {},
   "outputs": [],
   "source": [
    "mse = np.mean((Y - Y_pred) ** 2)\n",
    "\n",
    "print(\"Mean Squared Error (MSE):\", mse)\n"
   ]
  },
  {
   "cell_type": "code",
   "execution_count": null,
   "metadata": {},
   "outputs": [],
   "source": [
    "def calculate_r_squared(Y, Y_pred):\n",
    "    ss_total = np.sum((Y - np.mean(Y)) ** 2)\n",
    "    ss_residual = np.sum((Y - Y_pred) ** 2)\n",
    "    return 1 - (ss_residual / ss_total)\n",
    "\n",
    "r2 = calculate_r_squared(Y, Y_pred)\n",
    "print(\"R²-värde:\", r2)\n"
   ]
  },
  {
   "cell_type": "code",
   "execution_count": null,
   "metadata": {},
   "outputs": [],
   "source": [
    "F_stat, p_value = model.calculate_f_statistic()\n",
    "print(\"F-statistik:\", F_stat)\n",
    "print(\"P-värde:\", p_value)\n",
    "\n",
    "if p_value < 0.05:\n",
    "    print(\"Regressionen är signifikant (p < 0.05)\")\n",
    "else:\n",
    "    print(\"Regressionen är INTE signifikant (p > 0.05)\")\n"
   ]
  }
 ],
 "metadata": {
  "kernelspec": {
   "display_name": ".venv",
   "language": "python",
   "name": "python3"
  },
  "language_info": {
   "codemirror_mode": {
    "name": "ipython",
    "version": 3
   },
   "file_extension": ".py",
   "mimetype": "text/x-python",
   "name": "python",
   "nbconvert_exporter": "python",
   "pygments_lexer": "ipython3",
   "version": "3.12.6"
  }
 },
 "nbformat": 4,
 "nbformat_minor": 2
}
