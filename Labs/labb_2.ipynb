{
 "cells": [
  {
   "cell_type": "code",
   "execution_count": 124,
   "metadata": {},
   "outputs": [],
   "source": [
    "# min labb 2 \n",
    "\n",
    "# Import libraries \n",
    "import math\n",
    "import matplotlib.pyplot as plt\n",
    "def distance(point1, point2):\n",
    "    return math.sqrt((point1[0] - point2[0])**2 + (point1[1] - point2[1])**2)"
   ]
  },
  {
   "cell_type": "code",
   "execution_count": null,
   "metadata": {},
   "outputs": [],
   "source": [
    "# Load and plot data\n",
    "def load_and_plot_data(filename):\n",
    "    pichu_data, pikachu_data = [], []\n",
    "    with open(filename, 'r') as file:\n",
    "        next(file)  # Skip header\n",
    "        for line in file:\n",
    "            width, height, label = map(float, line.strip().split(','))\n",
    "            if label == 0:\n",
    "                pichu_data.append((width, height))\n",
    "            else:\n",
    "                pikachu_data.append((width, height))\n",
    "    # Plot the data\n",
    "    plt.figure(figsize=(10, 6))\n",
    "    plt.scatter([p[0] for p in pichu_data], [p[1] for p in pichu_data], color='blue', label='Pichu')\n",
    "    plt.scatter([p[0] for p in pikachu_data], [p[1] for p in pikachu_data], color='red', label='Pikachu')\n",
    "    plt.xlabel('Width')\n",
    "    plt.ylabel('Height')\n",
    "    plt.title('Pichu and Pikachu Data Points')\n",
    "    plt.legend()\n",
    "    plt.show()\n",
    "    return pichu_data, pikachu_data\n",
    "# Load and plot the data\n",
    "pichu_data, pikachu_data = load_and_plot_data(\"datapoint.txt\")\n",
    "print(f\"Loaded {len(pichu_data)} Pichu points and {len(pikachu_data)} Pikachu points\")\n",
    "\n"
   ]
  },
  {
   "cell_type": "code",
   "execution_count": null,
   "metadata": {},
   "outputs": [],
   "source": [
    "# Load test points\n",
    "def load_test_points(filename):\n",
    "    test_points = []\n",
    "    with open(filename, 'r') as file:\n",
    "        next(file)  # Skip header\n",
    "        for line in file:\n",
    "            parts = line.split('(')[1].split(')')[0].split(',')\n",
    "            test_points.append((float(parts[0]), float(parts[1])))\n",
    "    return test_points\n",
    "test_points = load_test_points(\"testpoints.txt\")\n",
    "print(f\"Loaded {len(test_points)} test points\")"
   ]
  },
  {
   "cell_type": "code",
   "execution_count": 127,
   "metadata": {},
   "outputs": [],
   "source": [
    "# Define the classifier function\n",
    "\"\"\"def classify_point(point, pichu_data, pikachu_data):\n",
    "    all_data = pichu_data + pikachu_data\n",
    "    nearest_point = min(all_data, key=lambda p: distance(point, p))\n",
    "    return \"Pichu\" if nearest_point in pichu_data else \"Pikachu\" \"\"\"\n",
    "\n",
    "\n",
    "\n",
    "# (Uppgift 2) Define the classifier function using the 10 nearest neighbors \n",
    "def classify_point(point, pichu_data, pikachu_data, k=10):\n",
    "    all_data = pichu_data + pikachu_data\n",
    "    distances = []\n",
    "\n",
    "    \n",
    "    for p in all_data:\n",
    "        dist = distance(point, p)  \n",
    "        distances.append((p, dist))\n",
    "\n",
    "    \n",
    "    distances.sort(key=lambda x: x[1])  \n",
    "    k_nearest_neighbors = distances[:k]  \n",
    "\n",
    "    \n",
    "    pichu_count = 0\n",
    "    pikachu_count = 0\n",
    "\n",
    "    for neighbor, _ in k_nearest_neighbors:\n",
    "        if neighbor in pichu_data:\n",
    "            pichu_count += 1\n",
    "        else:\n",
    "            pikachu_count += 1\n",
    "\n",
    "    \n",
    "    if pichu_count > pikachu_count:\n",
    "        return \"Pichu\"\n",
    "    else:\n",
    "        return \"Pikachu\"\n"
   ]
  },
  {
   "cell_type": "code",
   "execution_count": null,
   "metadata": {},
   "outputs": [],
   "source": [
    "# Classify test points\n",
    "\"\"\"for point in test_points:\n",
    "    result = classify_point(point, pichu_data, pikachu_data)\n",
    "    print(f\"Point {point} classified as {result}\")\"\"\" \n",
    "\n",
    "# (uppgift 2) Classify test points using 10 nearest neighbors\n",
    "for point in test_points:\n",
    "    result = classify_point(point, pichu_data, pikachu_data, k=10)  # Använder k=10\n",
    "    print(f\"Point {point} classified as {result}\")\n"
   ]
  },
  {
   "cell_type": "code",
   "execution_count": null,
   "metadata": {},
   "outputs": [],
   "source": [
    "# Plot test points with classification\n",
    "plt.figure(figsize=(10, 6))\n",
    "plt.scatter([p[0] for p in pichu_data], [p[1] for p in pichu_data], color='blue', label='Pichu', alpha=0.5)\n",
    "plt.scatter([p[0] for p in pikachu_data], [p[1] for p in pikachu_data], color='red', label='Pikachu', alpha=0.5)\n",
    "for point in test_points:\n",
    "    result = classify_point(point, pichu_data, pikachu_data,)\n",
    "    color = 'blue' if result == 'Pichu' else 'red'\n",
    "    plt.scatter(point[0], point[1], color=color, marker='x', s=100)\n",
    "plt.xlabel('Width')\n",
    "plt.ylabel('Height')\n",
    "plt.title('Pichu and Pikachu Classification Results')\n",
    "plt.legend()\n",
    "plt.show()"
   ]
  },
  {
   "cell_type": "code",
   "execution_count": null,
   "metadata": {},
   "outputs": [],
   "source": [
    "# User input for test point \n",
    "def get_user_input():\n",
    "    while True:\n",
    "        try:\n",
    "            width = input(\"Enter the width of the Pokémon (or 'q' to quit): \")\n",
    "            if width == 'q':\n",
    "                return None\n",
    "            width = float(width)\n",
    "            height = input(\"Enter the height of the Pokémon (or 'q' to quit): \")\n",
    "            if height == 'q':\n",
    "                return None\n",
    "            height = float(height)\n",
    "            if width < 0 or height < 0:\n",
    "                raise ValueError(\"Width and height must be positive numbers.\")\n",
    "            return (width, height)\n",
    "        except ValueError as e:\n",
    "            print(f\"Invalid input: {e}. Please enter positive numbers.\")\n",
    "user_point = get_user_input()\n",
    "if user_point is None: \n",
    "    print(\"Good Bye!\")\n",
    "else:\n",
    "    result = classify_point(user_point, pichu_data, pikachu_data, k=10)\n",
    "    print(f\"The Pokémon with width {user_point[0]} and height {user_point[1]} is classified as: {result}\")           \n"
   ]
  }
 ],
 "metadata": {
  "kernelspec": {
   "display_name": ".venv",
   "language": "python",
   "name": "python3"
  },
  "language_info": {
   "codemirror_mode": {
    "name": "ipython",
    "version": 3
   },
   "file_extension": ".py",
   "mimetype": "text/x-python",
   "name": "python",
   "nbconvert_exporter": "python",
   "pygments_lexer": "ipython3",
   "version": "3.12.6"
  }
 },
 "nbformat": 4,
 "nbformat_minor": 2
}
