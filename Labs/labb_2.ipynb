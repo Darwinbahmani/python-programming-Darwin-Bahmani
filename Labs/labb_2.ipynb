{
 "cells": [
  {
   "cell_type": "code",
   "execution_count": null,
   "metadata": {},
   "outputs": [],
   "source": [
    "# min labb 2 första version \n",
    "\n",
    "# Cell 1: Import libraries and define helper functions\n",
    "import math\n",
    "import matplotlib.pyplot as plt\n",
    "def distance(point1, point2):\n",
    "    return math.sqrt((point1[0] - point2[0])**2 + (point1[1] - point2[1])**2)"
   ]
  },
  {
   "cell_type": "code",
   "execution_count": null,
   "metadata": {},
   "outputs": [],
   "source": [
    "# Cell 2: Load and plot data\n",
    "def load_and_plot_data(filename):\n",
    "    pichu_data, pikachu_data = [], []\n",
    "    with open(filename, 'r') as file:\n",
    "        next(file)  # Skip header\n",
    "        for line in file:\n",
    "            width, height, label = map(float, line.strip().split(','))\n",
    "            if label == 0:\n",
    "                pichu_data.append((width, height))\n",
    "            else:\n",
    "                pikachu_data.append((width, height))\n",
    "    # Plot the data\n",
    "    plt.figure(figsize=(10, 6))\n",
    "    plt.scatter([p[0] for p in pichu_data], [p[1] for p in pichu_data], color='blue', label='Pichu')\n",
    "    plt.scatter([p[0] for p in pikachu_data], [p[1] for p in pikachu_data], color='red', label='Pikachu')\n",
    "    plt.xlabel('Width')\n",
    "    plt.ylabel('Height')\n",
    "    plt.title('Pichu and Pikachu Data Points')\n",
    "    plt.legend()\n",
    "    plt.show()\n",
    "    return pichu_data, pikachu_data\n",
    "# Load and plot the data\n",
    "pichu_data, pikachu_data = load_and_plot_data(\"datapoint.txt\")\n",
    "print(f\"Loaded {len(pichu_data)} Pichu points and {len(pikachu_data)} Pikachu points\")\n",
    "\n"
   ]
  }
 ],
 "metadata": {
  "language_info": {
   "name": "python"
  }
 },
 "nbformat": 4,
 "nbformat_minor": 2
}
