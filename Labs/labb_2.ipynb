{
 "cells": [
  {
   "cell_type": "code",
   "execution_count": null,
   "metadata": {},
   "outputs": [],
   "source": [
    "# min labb 2 \n",
    "\n",
    "# Import libraries and define helper functions\n",
    "import math\n",
    "import matplotlib.pyplot as plt\n",
    "def distance(point1, point2):\n",
    "    return math.sqrt((point1[0] - point2[0])**2 + (point1[1] - point2[1])**2)"
   ]
  },
  {
   "cell_type": "code",
   "execution_count": null,
   "metadata": {},
   "outputs": [],
   "source": [
    "# Load and plot data\n",
    "def load_and_plot_data(filename):\n",
    "    pichu_data, pikachu_data = [], []\n",
    "    with open(filename, 'r') as file:\n",
    "        next(file)  # Skip header\n",
    "        for line in file:\n",
    "            width, height, label = map(float, line.strip().split(','))\n",
    "            if label == 0:\n",
    "                pichu_data.append((width, height))\n",
    "            else:\n",
    "                pikachu_data.append((width, height))\n",
    "    # Plot the data\n",
    "    plt.figure(figsize=(10, 6))\n",
    "    plt.scatter([p[0] for p in pichu_data], [p[1] for p in pichu_data], color='blue', label='Pichu')\n",
    "    plt.scatter([p[0] for p in pikachu_data], [p[1] for p in pikachu_data], color='red', label='Pikachu')\n",
    "    plt.xlabel('Width')\n",
    "    plt.ylabel('Height')\n",
    "    plt.title('Pichu and Pikachu Data Points')\n",
    "    plt.legend()\n",
    "    plt.show()\n",
    "    return pichu_data, pikachu_data\n",
    "# Load and plot the data\n",
    "pichu_data, pikachu_data = load_and_plot_data(\"datapoint.txt\")\n",
    "print(f\"Loaded {len(pichu_data)} Pichu points and {len(pikachu_data)} Pikachu points\")\n",
    "\n"
   ]
  },
  {
   "cell_type": "code",
   "execution_count": null,
   "metadata": {},
   "outputs": [],
   "source": [
    "# Load test points\n",
    "def load_test_points(filename):\n",
    "    test_points = []\n",
    "    with open(filename, 'r') as file:\n",
    "        next(file)  # Skip header\n",
    "        for line in file:\n",
    "            parts = line.split('(')[1].split(')')[0].split(',')\n",
    "            test_points.append((float(parts[0]), float(parts[1])))\n",
    "    return test_points\n",
    "test_points = load_test_points(\"testpoints.txt\")\n",
    "print(f\"Loaded {len(test_points)} test points\")"
   ]
  },
  {
   "cell_type": "code",
   "execution_count": 1,
   "metadata": {},
   "outputs": [],
   "source": [
    "# Define the classifier function\n",
    "def classify_point(point, pichu_data, pikachu_data):\n",
    "    all_data = pichu_data + pikachu_data\n",
    "    nearest_point = min(all_data, key=lambda p: distance(point, p))\n",
    "    return \"Pichu\" if nearest_point in pichu_data else \"Pikachu\""
   ]
  }
 ],
 "metadata": {
  "kernelspec": {
   "display_name": ".venv",
   "language": "python",
   "name": "python3"
  },
  "language_info": {
   "codemirror_mode": {
    "name": "ipython",
    "version": 3
   },
   "file_extension": ".py",
   "mimetype": "text/x-python",
   "name": "python",
   "nbconvert_exporter": "python",
   "pygments_lexer": "ipython3",
   "version": "3.12.6"
  }
 },
 "nbformat": 4,
 "nbformat_minor": 2
}
