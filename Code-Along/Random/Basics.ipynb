{
 "cells": [
  {
   "cell_type": "code",
   "execution_count": null,
   "metadata": {},
   "outputs": [],
   "source": []
  },
  {
   "cell_type": "code",
   "execution_count": 7,
   "metadata": {},
   "outputs": [
    {
     "name": "stdout",
     "output_type": "stream",
     "text": [
      "darwin var ett fint namn\n"
     ]
    }
   ],
   "source": [
    "namn = input(\"vad heter du?\")\n",
    "print(f\"{namn} var ett fint namn\") "
   ]
  },
  {
   "cell_type": "code",
   "execution_count": 16,
   "metadata": {},
   "outputs": [
    {
     "name": "stdout",
     "output_type": "stream",
     "text": [
      "['banan', 'kiwi', 'äpple', 'päron']\n"
     ]
    }
   ],
   "source": [
    "namn = [\"banan\" , \"kiwi\" , \"äpple\"] \n",
    "namn.append (\"päron\")\n",
    "print (namn)\n",
    "\n",
    "         "
   ]
  },
  {
   "cell_type": "code",
   "execution_count": 35,
   "metadata": {},
   "outputs": [
    {
     "name": "stdout",
     "output_type": "stream",
     "text": [
      "fasolja\n"
     ]
    }
   ],
   "source": [
    " \n",
    "\n",
    "mat = [\"lasagne\" , \"pizza\" , \"hamburgare\" , \"fasolja\"]\n",
    "mat.append (input(\"lägg till en maträtt:\"))\n",
    "\n",
    "\n"
   ]
  },
  {
   "cell_type": "code",
   "execution_count": 36,
   "metadata": {},
   "outputs": [
    {
     "name": "stdout",
     "output_type": "stream",
     "text": [
      "3\n"
     ]
    }
   ],
   "source": [
    "import random\n",
    "slump = random.randint(1,6)\n",
    "print (slump) "
   ]
  },
  {
   "cell_type": "code",
   "execution_count": 48,
   "metadata": {},
   "outputs": [
    {
     "name": "stdout",
     "output_type": "stream",
     "text": [
      "ikväll ska ni äta lasagne tillsammans\n"
     ]
    }
   ],
   "source": [
    "import random\n",
    "mat = [\"lasagne\", \"pizza\", \"hamburgare\", \"soppa\" , \"fisk\"]\n",
    "urval = random.choice(mat)\n",
    "print(f\"ikväll ska ni äta {urval} tillsammans\")  \n"
   ]
  },
  {
   "cell_type": "code",
   "execution_count": 52,
   "metadata": {},
   "outputs": [
    {
     "name": "stdout",
     "output_type": "stream",
     "text": [
      "hej är lika med ett\n"
     ]
    }
   ],
   "source": [
    "hej = 1\n",
    "if hej == 1:\n",
    " print(\"hej är lika med ett\")"
   ]
  },
  {
   "cell_type": "code",
   "execution_count": 54,
   "metadata": {},
   "outputs": [
    {
     "name": "stdout",
     "output_type": "stream",
     "text": [
      "hej är inte lika med ett\n"
     ]
    }
   ],
   "source": [
    "hej = 2\n",
    "if hej != 1:\n",
    "    print(\"hej är inte lika med ett\") "
   ]
  },
  {
   "cell_type": "code",
   "execution_count": 58,
   "metadata": {},
   "outputs": [],
   "source": [
    "hej =int(input(\"ange ett tal\"))\n",
    "if hej >= 1:\n",
    "    print(\"ditt tal är större eller lika med ett\") "
   ]
  },
  {
   "cell_type": "code",
   "execution_count": 59,
   "metadata": {},
   "outputs": [
    {
     "name": "stdout",
     "output_type": "stream",
     "text": [
      "ditt tal är inte lika med ett\n"
     ]
    }
   ],
   "source": [
    "hej = int(input(\"ange ett tal\"))\n",
    "if hej != 1:\n",
    "    print(\"ditt tal är inte lika med ett\")"
   ]
  },
  {
   "cell_type": "code",
   "execution_count": 65,
   "metadata": {},
   "outputs": [
    {
     "name": "stdout",
     "output_type": "stream",
     "text": [
      "Ditt namn är darwin\n"
     ]
    }
   ],
   "source": [
    "namn = (input(\"va heter du?:\"))\n",
    "if namn == \"darwin\":\n",
    "    print(\"Ditt namn är darwin\")\n"
   ]
  },
  {
   "cell_type": "code",
   "execution_count": 68,
   "metadata": {},
   "outputs": [
    {
     "name": "stdout",
     "output_type": "stream",
     "text": [
      "talet är inte lika med ett\n"
     ]
    }
   ],
   "source": [
    "tal = 5\n",
    "if tal == 1:\n",
    "    print(\"talet är lika med ett\")\n",
    "else:\n",
    " print (\"talet är inte lika med ett\")"
   ]
  },
  {
   "cell_type": "code",
   "execution_count": 70,
   "metadata": {},
   "outputs": [
    {
     "name": "stdout",
     "output_type": "stream",
     "text": [
      "tyvärr, du har inte klarat provet\n"
     ]
    }
   ],
   "source": [
    "resultat = int(input(\"hur många poäng fick du på provet?:\"))\n",
    "if resultat >=20:\n",
    "    print(\"Grattis! Du klarade provet\")\n",
    "else:\n",
    "    print(\"tyvärr, du har inte klarat provet\")"
   ]
  },
  {
   "cell_type": "code",
   "execution_count": 75,
   "metadata": {},
   "outputs": [
    {
     "name": "stdout",
     "output_type": "stream",
     "text": [
      "du har inte klarat provet\n"
     ]
    }
   ],
   "source": [
    "resultat = int(input(\"hur många poäng fick du på provet?\"))\n",
    "godkänt = int(input(\"vad var gränsen för godkänt\")) \n",
    "if resultat >=godkänt:\n",
    "    print(\"Du har klarat provet, grattis!\")\n",
    "else: \n",
    "    print(\"du har inte klarat provet\") "
   ]
  },
  {
   "cell_type": "code",
   "execution_count": 79,
   "metadata": {},
   "outputs": [
    {
     "name": "stdout",
     "output_type": "stream",
     "text": [
      "ditt tal är mindre än 5\n"
     ]
    }
   ],
   "source": [
    "tal = 0\n",
    "if tal ==5:\n",
    "    print(\"ditt tal är lika med 5\")\n",
    "elif tal >5:\n",
    "    print(\"ditt tal är större än 5\")\n",
    "else:\n",
    "    print(\"ditt tal är mindre än 5\")"
   ]
  },
  {
   "cell_type": "code",
   "execution_count": 83,
   "metadata": {},
   "outputs": [
    {
     "name": "stdout",
     "output_type": "stream",
     "text": [
      "din frukt är inte en banan\n"
     ]
    }
   ],
   "source": [
    "txt = \"kiwi\"\n",
    "if txt == \"banan\":\n",
    "    print(\"frukten är en banan\")\n",
    "else:\n",
    "    print(\"din frukt är inte en banan\")\n"
   ]
  },
  {
   "cell_type": "code",
   "execution_count": 85,
   "metadata": {},
   "outputs": [
    {
     "name": "stdout",
     "output_type": "stream",
     "text": [
      "den är meningen har inte ordet python i sig\n"
     ]
    }
   ],
   "source": [
    "fras = \"den är meningen innehåller ordet\"\n",
    "if \"python\" in fras:\n",
    "    print(\"den har meningen innehåller ordet python\")\n",
    "else:\n",
    "    print(\"den är meningen har inte ordet python i sig\")"
   ]
  },
  {
   "cell_type": "code",
   "execution_count": 88,
   "metadata": {},
   "outputs": [
    {
     "name": "stdout",
     "output_type": "stream",
     "text": [
      "ordet koda finns inte i frasen\n"
     ]
    }
   ],
   "source": [
    "fras = (input(\"skriv en fras\"))\n",
    "if \"koda\" in fras:\n",
    "    print(\"ordet koda finns i frasen\")\n",
    "else:\n",
    "    print(\"ordet koda finns inte i frasen\")"
   ]
  },
  {
   "cell_type": "code",
   "execution_count": 90,
   "metadata": {},
   "outputs": [
    {
     "name": "stdout",
     "output_type": "stream",
     "text": [
      "tjena\n",
      "tjena\n",
      "tjena\n"
     ]
    }
   ],
   "source": [
    "for i in range(3):\n",
    " print (\"tjena\")"
   ]
  },
  {
   "cell_type": "code",
   "execution_count": 98,
   "metadata": {},
   "outputs": [
    {
     "name": "stdout",
     "output_type": "stream",
     "text": [
      "banan\n",
      "äpple\n",
      "apelsin\n",
      "päron\n"
     ]
    }
   ],
   "source": [
    "frukt = [\"banan\",\"äpple\",\"apelsin\", \"päron\"]\n",
    "for i in range (len(frukt)):\n",
    "    print(frukt[i])"
   ]
  },
  {
   "cell_type": "code",
   "execution_count": 3,
   "metadata": {},
   "outputs": [
    {
     "name": "stdout",
     "output_type": "stream",
     "text": [
      "måndag: hamburgare\n",
      "tisdag: fisk\n",
      "onsdag: lasagne\n",
      "torsdag: pasta\n",
      "fredag: köttbullar\n",
      "lördag: soppa\n",
      "söndag: kebab\n"
     ]
    }
   ],
   "source": [
    "import random \n",
    "matsedel= [\"kebab\", \"lasagne\",\"hamburgare\",\"pasta\",\"fisk\",\"soppa\",\"köttbullar\"]\n",
    "veckodagar= [\"måndag\",\"tisdag\",\"onsdag\",\"torsdag\",\"fredag\",\"lördag\",\"söndag\"]\n",
    "\n",
    "for i in range(7):\n",
    "    print (veckodagar[i]+\": \"+random.choice(matsedel))\n",
    "\n"
   ]
  }
 ],
 "metadata": {
  "kernelspec": {
   "display_name": ".venv",
   "language": "python",
   "name": "python3"
  },
  "language_info": {
   "codemirror_mode": {
    "name": "ipython",
    "version": 3
   },
   "file_extension": ".py",
   "mimetype": "text/x-python",
   "name": "python",
   "nbconvert_exporter": "python",
   "pygments_lexer": "ipython3",
   "version": "3.12.6"
  }
 },
 "nbformat": 4,
 "nbformat_minor": 2
}
