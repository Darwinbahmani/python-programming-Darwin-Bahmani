{
 "cells": [
  {
   "cell_type": "code",
   "execution_count": null,
   "metadata": {},
   "outputs": [],
   "source": [
    "age = input(\"ange din ålder\")\n",
    "\n",
    "try:\n",
    "    age=float(age)\n",
    "if not 0<=age<=125:\n",
    "    raise ValueError(\"åldern måste vara mellan 0 och 125\")\n",
    "print(f\"du är {age} år gammal\")\n",
    "except ValueError as err:\n",
    "\n",
    "\n",
    "#hejsan \n",
    " \n",
    "\n"
   ]
  },
  {
   "cell_type": "code",
   "execution_count": 3,
   "metadata": {},
   "outputs": [
    {
     "name": "stdout",
     "output_type": "stream",
     "text": [
      "1 2\n"
     ]
    },
    {
     "ename": "ValueError",
     "evalue": "",
     "output_type": "error",
     "traceback": [
      "\u001b[1;31m---------------------------------------------------------------------------\u001b[0m",
      "\u001b[1;31mValueError\u001b[0m                                Traceback (most recent call last)",
      "Cell \u001b[1;32mIn[3], line 7\u001b[0m\n\u001b[0;32m      4\u001b[0m \u001b[38;5;28;01mdef\u001b[39;00m \u001b[38;5;21msecond_funktion\u001b[39m (a, b):\n\u001b[0;32m      5\u001b[0m     my_funktion(a,b)\n\u001b[1;32m----> 7\u001b[0m \u001b[43msecond_funktion\u001b[49m\u001b[43m(\u001b[49m\u001b[38;5;241;43m1\u001b[39;49m\u001b[43m,\u001b[49m\u001b[38;5;241;43m2\u001b[39;49m\u001b[43m)\u001b[49m\n",
      "Cell \u001b[1;32mIn[3], line 5\u001b[0m, in \u001b[0;36msecond_funktion\u001b[1;34m(a, b)\u001b[0m\n\u001b[0;32m      4\u001b[0m \u001b[38;5;28;01mdef\u001b[39;00m \u001b[38;5;21msecond_funktion\u001b[39m (a, b):\n\u001b[1;32m----> 5\u001b[0m     \u001b[43mmy_funktion\u001b[49m\u001b[43m(\u001b[49m\u001b[43ma\u001b[49m\u001b[43m,\u001b[49m\u001b[43mb\u001b[49m\u001b[43m)\u001b[49m\n",
      "Cell \u001b[1;32mIn[3], line 3\u001b[0m, in \u001b[0;36mmy_funktion\u001b[1;34m(a, b)\u001b[0m\n\u001b[0;32m      1\u001b[0m \u001b[38;5;28;01mdef\u001b[39;00m \u001b[38;5;21mmy_funktion\u001b[39m(a,b):\n\u001b[0;32m      2\u001b[0m     \u001b[38;5;28mprint\u001b[39m(a,b)\n\u001b[1;32m----> 3\u001b[0m     \u001b[38;5;28;01mraise\u001b[39;00m \u001b[38;5;167;01mValueError\u001b[39;00m\n",
      "\u001b[1;31mValueError\u001b[0m: "
     ]
    }
   ],
   "source": [
    "def my_funktion(a,b):\n",
    "    print(a,b)\n",
    "    raise ValueError\n",
    "def second_funktion (a, b):\n",
    "    my_funktion(a,b)\n",
    "\n",
    "second_funktion(1,2)"
   ]
  },
  {
   "cell_type": "markdown",
   "metadata": {},
   "source": [
    "## logic\n",
    "\n",
    "### Boolean logic\n",
    "only two values: 0,1 (false, true)\n",
    "\n",
    "valuation function \n",
    "      - determines the truth value of boolean expression \n",
    "\n",
    "    operators: \n",
    "    <,> (numbers)\n",
    "    a AND b (a, b are booleans)\n",
    "    a OR b\n",
    "    a XOR b\n",
    "    a IMPL b\n",
    "    a EQ b\n",
    " |OP |a | b | output |\n",
    " |---|--|---|---|\n",
    " |AND|F | F | \n"
   ]
  }
 ],
 "metadata": {
  "kernelspec": {
   "display_name": ".venv",
   "language": "python",
   "name": "python3"
  },
  "language_info": {
   "codemirror_mode": {
    "name": "ipython",
    "version": 3
   },
   "file_extension": ".py",
   "mimetype": "text/x-python",
   "name": "python",
   "nbconvert_exporter": "python",
   "pygments_lexer": "ipython3",
   "version": "3.12.6"
  }
 },
 "nbformat": 4,
 "nbformat_minor": 2
}
